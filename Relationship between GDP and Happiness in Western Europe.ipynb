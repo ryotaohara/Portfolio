{
 "cells": [
  {
   "cell_type": "markdown",
   "metadata": {},
   "source": [
    "### Relationship between GDP and Happiness in Western Europe"
   ]
  },
  {
   "cell_type": "code",
   "execution_count": 16,
   "metadata": {},
   "outputs": [
    {
     "data": {
      "image/png": "[encoded data removed]",
      "text/plain": [
       "<Figure size 432x288 with 1 Axes>"
      ]
     },
     "metadata": {
      "needs_background": "light"
     },
     "output_type": "display_data"
    }
   ],
   "source": [
    "import numpy as np\n",
    "import pandas as pd\n",
    "import matplotlib.pyplot as plt\n",
    "from sklearn.cluster import KMeans\n",
    "\n",
    "pre_data = pd.read_csv('happyscore_income.csv')\n",
    "pre_data.sort_values('avg_income', inplace = True)\n",
    "data = pre_data[pre_data['region'] == \"'Western Europe'\"]\n",
    "gdp = data['GDP']\n",
    "happy = data['happyScore']\n",
    "stacked = np.column_stack((happy, gdp))\n",
    "\n",
    "km = KMeans(n_clusters = 3).fit(stacked)\n",
    "centers = km.cluster_centers_\n",
    "\n",
    "plt.scatter(data['happyScore'], data['GDP'])\n",
    "plt.scatter(centers[:, 0], centers[:, 1], alpha = 0.5, s = 1000)\n",
    "for i, row in data.iterrows():\n",
    "    plt.text(row['happyScore'],\n",
    "             row['GDP'],\n",
    "             row['country'])\n",
    "plt.xlabel('GDP')\n",
    "plt.ylabel('Happiness')\n",
    "plt.show()"
   ]
  },
  {
   "cell_type": "code",
   "execution_count": 15,
   "metadata": {},
   "outputs": [
    {
     "data": {
      "text/html": [
       "<div>\n",
       "<style scoped>\n",
       "    .dataframe tbody tr th:only-of-type {\n",
       "        vertical-align: middle;\n",
       "    }\n",
       "\n",
       "    .dataframe tbody tr th {\n",
       "        vertical-align: top;\n",
       "    }\n",
       "\n",
       "    .dataframe thead th {\n",
       "        text-align: right;\n",
       "    }\n",
       "</style>\n",
       "<table border=\"1\" class=\"dataframe\">\n",
       "  <thead>\n",
       "    <tr style=\"text-align: right;\">\n",
       "      <th></th>\n",
       "      <th>GDP</th>\n",
       "      <th>Happiness</th>\n",
       "    </tr>\n",
       "  </thead>\n",
       "  <tbody>\n",
       "    <tr>\n",
       "      <th>1</th>\n",
       "      <td>5.399000</td>\n",
       "      <td>1.193310</td>\n",
       "    </tr>\n",
       "    <tr>\n",
       "      <th>0</th>\n",
       "      <td>6.763429</td>\n",
       "      <td>1.329981</td>\n",
       "    </tr>\n",
       "    <tr>\n",
       "      <th>2</th>\n",
       "      <td>7.443125</td>\n",
       "      <td>1.346492</td>\n",
       "    </tr>\n",
       "  </tbody>\n",
       "</table>\n",
       "</div>"
      ],
      "text/plain": [
       "        GDP  Happiness\n",
       "1  5.399000   1.193310\n",
       "0  6.763429   1.329981\n",
       "2  7.443125   1.346492"
      ]
     },
     "execution_count": 15,
     "metadata": {},
     "output_type": "execute_result"
    }
   ],
   "source": [
    "pd.DataFrame({\"GDP\":centers[:, 0],\n",
    "              \"Happiness\":centers[:, 1]}).sort_values('GDP')"
   ]
  },
  {
   "cell_type": "code",
   "execution_count": null,
   "metadata": {},
   "outputs": [],
   "source": []
  }
 ],
 "metadata": {
  "kernelspec": {
   "display_name": "Python 3",
   "language": "python",
   "name": "python3"
  },
  "language_info": {
   "codemirror_mode": {
    "name": "ipython",
    "version": 3
   },
   "file_extension": ".py",
   "mimetype": "text/x-python",
   "name": "python",
   "nbconvert_exporter": "python",
   "pygments_lexer": "ipython3",
   "version": "3.8.5"
  }
 },
 "nbformat": 4,
 "nbformat_minor": 4
}
