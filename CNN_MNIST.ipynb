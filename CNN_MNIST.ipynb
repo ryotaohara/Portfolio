{
 "cells": [
  {
   "cell_type": "markdown",
   "id": "cd548a74-00ad-4116-a3a9-12f28e48f320",
   "metadata": {},
   "source": [
    "## Libraries"
   ]
  },
  {
   "cell_type": "code",
   "execution_count": 1,
   "id": "1163baa0-9878-4318-9086-1f7cd8c59814",
   "metadata": {
    "tags": []
   },
   "outputs": [],
   "source": [
    "import os\n",
    "import random\n",
    "import numpy as np\n",
    "import pandas as pd\n",
    "import matplotlib.pyplot as plt\n",
    "\n",
    "\n",
    "\n",
    "from imblearn.over_sampling import RandomOverSampler\n",
    "#from imblearn.over_sampling import SMOTE ## Not using this time\n",
    "from imblearn.under_sampling import RandomUnderSampler\n",
    "from imblearn.pipeline import Pipeline\n",
    "\n",
    "from sklearn.model_selection import train_test_split\n",
    "\n",
    "from keras.utils import to_categorical\n",
    "from keras.models import Sequential\n",
    "from keras.layers.convolutional import Conv2D, MaxPooling2D\n",
    "from keras.layers.core import Activation, Flatten, Dropout, Dense\n",
    "from keras.datasets import mnist\n",
    "from keras.optimizers import Adam\n",
    "from tensorflow.keras.callbacks import EarlyStopping\n",
    "from tensorflow.keras.datasets import mnist\n",
    "from tensorflow.random import set_seed"
   ]
  },
  {
   "cell_type": "markdown",
   "id": "2a59dab8-a297-4af0-b886-eb9a24ed5c28",
   "metadata": {},
   "source": [
    "## Loading the Dataset"
   ]
  },
  {
   "cell_type": "code",
   "execution_count": 2,
   "id": "f52c44f4-a11d-4b6c-9490-d0894212a17e",
   "metadata": {
    "tags": []
   },
   "outputs": [
    {
     "name": "stdout",
     "output_type": "stream",
     "text": [
      "(60000, 28, 28)\n",
      "(60000,)\n",
      "(10000, 28, 28)\n",
      "(10000,)\n"
     ]
    }
   ],
   "source": [
    "(x_train, y_train), (x_test, y_test) = mnist.load_data()\n",
    "\n",
    "print(x_train.shape)\n",
    "print(y_train.shape)\n",
    "print(x_test.shape)\n",
    "print(y_test.shape)"
   ]
  },
  {
   "cell_type": "markdown",
   "id": "59d8ffa4-95e6-43ef-8a98-7c2eefada379",
   "metadata": {},
   "source": [
    "Concatenate datasets just to apply undersampling and oversampling."
   ]
  },
  {
   "cell_type": "code",
   "execution_count": 3,
   "id": "e47b5b3a-30ca-4f6c-b608-0f7322e5ddff",
   "metadata": {
    "tags": []
   },
   "outputs": [
    {
     "name": "stdout",
     "output_type": "stream",
     "text": [
      "(70000, 28, 28)\n",
      "(70000,)\n"
     ]
    }
   ],
   "source": [
    "x = np.concatenate([x_train, x_test])\n",
    "y = np.concatenate([y_train, y_test])\n",
    "\n",
    "print(x.shape)\n",
    "print(y.shape)"
   ]
  },
  {
   "cell_type": "code",
   "execution_count": 4,
   "id": "1f137804-dd5c-4a7b-b3fc-5226253d496c",
   "metadata": {
    "tags": []
   },
   "outputs": [],
   "source": [
    "y = y.astype(str)"
   ]
  },
  {
   "cell_type": "markdown",
   "id": "383c50a3-7080-42e2-8a15-6cf5ff5f387a",
   "metadata": {},
   "source": [
    "Counting the number of instances for each number."
   ]
  },
  {
   "cell_type": "code",
   "execution_count": 5,
   "id": "2d4d440b-2ba6-4b70-9806-83549c1a6002",
   "metadata": {
    "tags": []
   },
   "outputs": [
    {
     "name": "stdout",
     "output_type": "stream",
     "text": [
      "0 6903\n",
      "1 7877\n",
      "2 6990\n",
      "3 7141\n",
      "4 6824\n",
      "5 6313\n",
      "6 6876\n",
      "7 7293\n",
      "8 6825\n",
      "9 6958\n"
     ]
    }
   ],
   "source": [
    "unq, cnt = np.unique(y, return_counts = True)\n",
    "\n",
    "for u, c in zip(unq, cnt):\n",
    "    print(u, c)"
   ]
  },
  {
   "cell_type": "markdown",
   "id": "05cee766-165f-4bff-b4f8-1ea9bd29ae20",
   "metadata": {},
   "source": [
    "Visualising the counts"
   ]
  },
  {
   "cell_type": "code",
   "execution_count": 6,
   "id": "7c478606-53ae-4321-b024-693edaaf5277",
   "metadata": {
    "tags": []
   },
   "outputs": [
    {
     "data": {
      "image/png": "[encoded data removed]",
      "text/plain": [
       "<Figure size 640x480 with 1 Axes>"
      ]
     },
     "metadata": {},
     "output_type": "display_data"
    }
   ],
   "source": [
    "plt.bar(unq, cnt)\n",
    "plt.xticks(unq)\n",
    "plt.xlabel(\"Label\")\n",
    "plt.ylabel(\"Quantity\")\n",
    "plt.title(\"Labels in MNIST dataset\")\n",
    "plt.show()"
   ]
  },
  {
   "cell_type": "markdown",
   "id": "2e3cf6ca-002f-465c-9c06-56a9455a2c57",
   "metadata": {},
   "source": [
    "## Undersampling & Oversampling"
   ]
  },
  {
   "cell_type": "markdown",
   "id": "6a8a7b1e-b2fd-481c-9ec5-633529925edb",
   "metadata": {},
   "source": [
    "Here, undersampling and oversampling are applied to equalise the number of instances for each number."
   ]
  },
  {
   "cell_type": "code",
   "execution_count": 7,
   "id": "419f9a96-996f-464c-903f-79162f0bc253",
   "metadata": {
    "tags": []
   },
   "outputs": [],
   "source": [
    "ss_over  = {}\n",
    "ss_under = {}\n",
    "\n",
    "for u, c in zip(unq, cnt):\n",
    "    if c < 7000:\n",
    "        ss_over.update({u: 7000})\n",
    "    elif c > 7000:\n",
    "        ss_under.update({u: 7000})"
   ]
  },
  {
   "cell_type": "code",
   "execution_count": 8,
   "id": "5837bd65-7aaa-4583-a7eb-cc9ad546b789",
   "metadata": {
    "tags": []
   },
   "outputs": [
    {
     "data": {
      "text/plain": [
       "{'0': 7000, '2': 7000, '4': 7000, '5': 7000, '6': 7000, '8': 7000, '9': 7000}"
      ]
     },
     "execution_count": 8,
     "metadata": {},
     "output_type": "execute_result"
    }
   ],
   "source": [
    "ss_over"
   ]
  },
  {
   "cell_type": "code",
   "execution_count": 9,
   "id": "b3bc6eaf-b204-4155-bd3e-103c4cc7e046",
   "metadata": {
    "tags": []
   },
   "outputs": [
    {
     "data": {
      "text/plain": [
       "{'1': 7000, '3': 7000, '7': 7000}"
      ]
     },
     "execution_count": 9,
     "metadata": {},
     "output_type": "execute_result"
    }
   ],
   "source": [
    "ss_under"
   ]
  },
  {
   "cell_type": "code",
   "execution_count": 10,
   "id": "833de8ff-7b28-4213-b683-77072f813fdb",
   "metadata": {
    "tags": []
   },
   "outputs": [],
   "source": [
    "ros = RandomOverSampler(sampling_strategy = ss_over)\n",
    "rus = RandomUnderSampler(sampling_strategy = ss_under)\n",
    "\n",
    "steps = [('o', ros), ('u', rus)]\n",
    "pipeline = Pipeline(steps = steps)\n",
    "\n",
    "x, y = pipeline.fit_resample(x.reshape(x.shape[0], -1), y)"
   ]
  },
  {
   "cell_type": "code",
   "execution_count": 11,
   "id": "6d35586c-a257-4d36-8d70-1bf7d2b8d2d3",
   "metadata": {
    "tags": []
   },
   "outputs": [
    {
     "name": "stdout",
     "output_type": "stream",
     "text": [
      "0 7000\n",
      "1 7000\n",
      "2 7000\n",
      "3 7000\n",
      "4 7000\n",
      "5 7000\n",
      "6 7000\n",
      "7 7000\n",
      "8 7000\n",
      "9 7000\n"
     ]
    }
   ],
   "source": [
    "unq, cnt = np.unique(y, return_counts = True)\n",
    "\n",
    "for u, c in zip(unq, cnt):\n",
    "    print(u, c)"
   ]
  },
  {
   "cell_type": "markdown",
   "id": "f3711376-a637-457f-82d7-7b7333f3629e",
   "metadata": {},
   "source": [
    "Now, all numbers have the same number of instances."
   ]
  },
  {
   "cell_type": "markdown",
   "id": "c0f56772-0867-46b6-93e3-871006cfba80",
   "metadata": {},
   "source": [
    "Visualising just in case."
   ]
  },
  {
   "cell_type": "code",
   "execution_count": 12,
   "id": "09dcf1a7-39cf-4f73-afd6-99884b78da4d",
   "metadata": {
    "tags": []
   },
   "outputs": [
    {
     "data": {
      "image/png": "[encoded data removed]",
      "text/plain": [
       "<Figure size 640x480 with 1 Axes>"
      ]
     },
     "metadata": {},
     "output_type": "display_data"
    }
   ],
   "source": [
    "plt.bar(unq, cnt)\n",
    "plt.xticks(unq)\n",
    "plt.xlabel(\"Label\")\n",
    "plt.ylabel(\"Quantity\")\n",
    "plt.title(\"Labels in MNIST dataset\")\n",
    "plt.show()"
   ]
  },
  {
   "cell_type": "markdown",
   "id": "b6f725de-603f-42c8-9cde-00857adf9d65",
   "metadata": {},
   "source": [
    "Checking whether the combinations of *x* and *y* are correct."
   ]
  },
  {
   "cell_type": "code",
   "execution_count": 13,
   "id": "ef85e255-06ce-4175-83ad-cfadc55aaf02",
   "metadata": {
    "tags": []
   },
   "outputs": [
    {
     "data": {
      "image/png": "[encoded data removed]",
      "text/plain": [
       "<Figure size 640x480 with 1 Axes>"
      ]
     },
     "metadata": {},
     "output_type": "display_data"
    },
    {
     "data": {
      "image/png": "[encoded data removed]",
      "text/plain": [
       "<Figure size 640x480 with 1 Axes>"
      ]
     },
     "metadata": {},
     "output_type": "display_data"
    },
    {
     "data": {
      "image/png": "[encoded data removed]",
      "text/plain": [
       "<Figure size 640x480 with 1 Axes>"
      ]
     },
     "metadata": {},
     "output_type": "display_data"
    }
   ],
   "source": [
    "nums = np.random.randint(low = 0, high = 70000, size = (3))\n",
    "\n",
    "for num in nums:\n",
    "    plt.imshow(x[num].reshape(28, 28))\n",
    "    plt.title(y[num])\n",
    "    plt.show()"
   ]
  },
  {
   "cell_type": "markdown",
   "id": "fc2abb07-88c9-4a30-8841-9720269adc9e",
   "metadata": {},
   "source": [
    "Seems fine."
   ]
  },
  {
   "cell_type": "markdown",
   "id": "687074bf-05bd-4e0a-8670-69fc9baf8294",
   "metadata": {},
   "source": [
    "## Train/Test Split"
   ]
  },
  {
   "cell_type": "code",
   "execution_count": 14,
   "id": "da5ddd37-b7ca-483d-b5b6-e803dfbc8f02",
   "metadata": {
    "tags": []
   },
   "outputs": [],
   "source": [
    "# Normsalisation\n",
    "x = x / 255\n",
    "\n",
    "# Reshaping x for CNN\n",
    "x = x.reshape(-1, 28, 28, 1)"
   ]
  },
  {
   "cell_type": "code",
   "execution_count": 15,
   "id": "edb2756e-f623-4cb0-9be9-7c47ae0594db",
   "metadata": {
    "tags": []
   },
   "outputs": [
    {
     "name": "stdout",
     "output_type": "stream",
     "text": [
      "(59500, 28, 28, 1)\n",
      "(10500, 28, 28, 1)\n",
      "(59500,)\n",
      "(10500,)\n"
     ]
    }
   ],
   "source": [
    "x_train, x_test, y_train, y_test = train_test_split(x, y,\n",
    "                                                    test_size = 0.15,\n",
    "                                                    random_state = 0)\n",
    "\n",
    "print(x_train.shape)\n",
    "print(x_test.shape)\n",
    "print(y_train.shape)\n",
    "print(y_test.shape)"
   ]
  },
  {
   "cell_type": "code",
   "execution_count": 16,
   "id": "a858f03b-bbe7-4398-a72c-da62d711a7cd",
   "metadata": {
    "tags": []
   },
   "outputs": [
    {
     "name": "stdout",
     "output_type": "stream",
     "text": [
      "(59500, 10)\n",
      "(10500, 10)\n"
     ]
    }
   ],
   "source": [
    "# Turning the ys into categorical datasets\n",
    "y_train = to_categorical(y_train)\n",
    "y_test  = to_categorical(y_test)\n",
    "\n",
    "print(y_train.shape)\n",
    "print(y_test.shape)"
   ]
  },
  {
   "cell_type": "markdown",
   "id": "d4334fa1-a9b4-4142-8f28-337265f3d702",
   "metadata": {},
   "source": [
    "## Model Building"
   ]
  },
  {
   "cell_type": "code",
   "execution_count": 17,
   "id": "600364f3-a979-46bd-98a8-456d1949e054",
   "metadata": {
    "tags": []
   },
   "outputs": [],
   "source": [
    "# Function for setting all seeds in each DL layer\n",
    "def setting_seed(seed = 0):\n",
    "    set_seed(seed)\n",
    "    np.random.seed(seed)\n",
    "    random.seed(seed)\n",
    "    os.environ['PYTHONHASHSEED'] = str(seed)"
   ]
  },
  {
   "cell_type": "code",
   "execution_count": 18,
   "id": "559ab8a6-7d6e-4f07-889a-c52d934ffd5c",
   "metadata": {
    "tags": []
   },
   "outputs": [],
   "source": [
    "model = Sequential()\n",
    "\n",
    "setting_seed()\n",
    "model.add(Conv2D(64, kernel_size = 5, activation = 'relu', padding = 'same', input_shape = (28, 28, 1)))\n",
    "setting_seed()\n",
    "model.add(MaxPooling2D(pool_size = (2, 2)))\n",
    "# model.add(BatchNormalization())\n",
    "model.add(Dropout(0.25))\n",
    "\n",
    "setting_seed()\n",
    "model.add(Conv2D(128, kernel_size = 5, padding = 'same', activation = 'relu'))\n",
    "setting_seed()\n",
    "model.add(MaxPooling2D(pool_size = (2, 2)))\n",
    "# model.add(BatchNormalization())\n",
    "model.add(Dropout(0.25))\n",
    "\n",
    "model.add(Flatten())\n",
    "setting_seed()\n",
    "model.add(Dense(512, activation = 'relu'))\n",
    "# model.add(BatchNormalization())\n",
    "model.add(Dropout(0.5))\n",
    "\n",
    "setting_seed()\n",
    "model.add(Dense(10, activation = 'softmax'))\n",
    "\n",
    "model.compile(optimizer = \"rmsprop\", loss='categorical_crossentropy', metrics = ['accuracy'])"
   ]
  },
  {
   "cell_type": "code",
   "execution_count": 19,
   "id": "de80e565-17d5-4dae-9544-1a5a5543d201",
   "metadata": {
    "tags": []
   },
   "outputs": [
    {
     "name": "stdout",
     "output_type": "stream",
     "text": [
      "Model: \"sequential\"\n",
      "_________________________________________________________________\n",
      " Layer (type)                Output Shape              Param #   \n",
      "=================================================================\n",
      " conv2d (Conv2D)             (None, 28, 28, 64)        1664      \n",
      "                                                                 \n",
      " max_pooling2d (MaxPooling2D  (None, 14, 14, 64)       0         \n",
      " )                                                               \n",
      "                                                                 \n",
      " dropout (Dropout)           (None, 14, 14, 64)        0         \n",
      "                                                                 \n",
      " conv2d_1 (Conv2D)           (None, 14, 14, 128)       204928    \n",
      "                                                                 \n",
      " max_pooling2d_1 (MaxPooling  (None, 7, 7, 128)        0         \n",
      " 2D)                                                             \n",
      "                                                                 \n",
      " dropout_1 (Dropout)         (None, 7, 7, 128)         0         \n",
      "                                                                 \n",
      " flatten (Flatten)           (None, 6272)              0         \n",
      "                                                                 \n",
      " dense (Dense)               (None, 512)               3211776   \n",
      "                                                                 \n",
      " dropout_2 (Dropout)         (None, 512)               0         \n",
      "                                                                 \n",
      " dense_1 (Dense)             (None, 10)                5130      \n",
      "                                                                 \n",
      "=================================================================\n",
      "Total params: 3,423,498\n",
      "Trainable params: 3,423,498\n",
      "Non-trainable params: 0\n",
      "_________________________________________________________________\n"
     ]
    }
   ],
   "source": [
    "model.summary()"
   ]
  },
  {
   "cell_type": "markdown",
   "id": "3212c615-0385-4ec2-aafd-d784bae48085",
   "metadata": {},
   "source": [
    "## Results"
   ]
  },
  {
   "cell_type": "code",
   "execution_count": 20,
   "id": "4a533fd1-d6a5-44af-b836-f692ffb3c843",
   "metadata": {
    "tags": []
   },
   "outputs": [
    {
     "name": "stdout",
     "output_type": "stream",
     "text": [
      "Epoch 1/30\n"
     ]
    },
    {
     "name": "stderr",
     "output_type": "stream",
     "text": [
      "2023-12-03 09:43:47.976107: W tensorflow/tsl/platform/profile_utils/cpu_utils.cc:128] Failed to get CPU frequency: 0 Hz\n"
     ]
    },
    {
     "name": "stdout",
     "output_type": "stream",
     "text": [
      "186/186 [==============================] - 112s 598ms/step - loss: 0.2797 - accuracy: 0.9104 - val_loss: 0.0571 - val_accuracy: 0.9813\n",
      "Epoch 2/30\n",
      "186/186 [==============================] - 110s 593ms/step - loss: 0.0633 - accuracy: 0.9804 - val_loss: 0.0376 - val_accuracy: 0.9876\n",
      "Epoch 3/30\n",
      "186/186 [==============================] - 112s 602ms/step - loss: 0.0454 - accuracy: 0.9853 - val_loss: 0.0306 - val_accuracy: 0.9905\n",
      "Epoch 4/30\n",
      "186/186 [==============================] - 114s 613ms/step - loss: 0.0345 - accuracy: 0.9890 - val_loss: 0.0292 - val_accuracy: 0.9910\n",
      "Epoch 5/30\n",
      "186/186 [==============================] - 114s 616ms/step - loss: 0.0289 - accuracy: 0.9908 - val_loss: 0.0307 - val_accuracy: 0.9892\n",
      "Epoch 6/30\n",
      "186/186 [==============================] - 110s 592ms/step - loss: 0.0235 - accuracy: 0.9928 - val_loss: 0.0291 - val_accuracy: 0.9908\n",
      "Epoch 7/30\n",
      "186/186 [==============================] - 111s 595ms/step - loss: 0.0216 - accuracy: 0.9931 - val_loss: 0.0230 - val_accuracy: 0.9927\n",
      "Epoch 8/30\n",
      "186/186 [==============================] - 110s 594ms/step - loss: 0.0177 - accuracy: 0.9944 - val_loss: 0.0314 - val_accuracy: 0.9906\n",
      "Epoch 9/30\n",
      "186/186 [==============================] - 110s 593ms/step - loss: 0.0165 - accuracy: 0.9941 - val_loss: 0.0263 - val_accuracy: 0.9918\n",
      "Epoch 10/30\n",
      "186/186 [==============================] - 111s 598ms/step - loss: 0.0148 - accuracy: 0.9951 - val_loss: 0.0239 - val_accuracy: 0.9932\n",
      "Epoch 11/30\n",
      "186/186 [==============================] - 111s 597ms/step - loss: 0.0129 - accuracy: 0.9959 - val_loss: 0.0237 - val_accuracy: 0.9930\n",
      "Epoch 12/30\n",
      "186/186 [==============================] - 112s 603ms/step - loss: 0.0104 - accuracy: 0.9965 - val_loss: 0.0342 - val_accuracy: 0.9903\n"
     ]
    }
   ],
   "source": [
    "hist = model.fit(x_train, y_train,\n",
    "                 epochs = 30, batch_size = 256, verbose = 1,\n",
    "                 callbacks = [EarlyStopping(monitor = 'val_loss', patience = 5)],\n",
    "                 validation_split = 0.2)"
   ]
  },
  {
   "cell_type": "code",
   "execution_count": 21,
   "id": "6fa3dc3a-fa90-4d03-8ce0-14a5457bbdba",
   "metadata": {
    "tags": []
   },
   "outputs": [
    {
     "name": "stdout",
     "output_type": "stream",
     "text": [
      "329/329 [==============================] - 7s 22ms/step - loss: 0.0367 - accuracy: 0.9915\n",
      "loss: 0.03669024258852005\n",
      "accuracy: 0.991523802280426\n"
     ]
    }
   ],
   "source": [
    "score = model.evaluate(x_test, y_test, verbose = 1)\n",
    "\n",
    "print(\"loss:\", score[0])\n",
    "print(\"accuracy:\", score[1])"
   ]
  },
  {
   "cell_type": "markdown",
   "id": "55f24716-82ce-42c7-a910-c1beea8a6ff4",
   "metadata": {},
   "source": [
    "The model appears to be able to predict images with high accuracy."
   ]
  },
  {
   "cell_type": "markdown",
   "id": "99ef9a92-9790-4067-9aae-86a8d45a1a13",
   "metadata": {},
   "source": [
    "## EOF"
   ]
  }
 ],
 "metadata": {
  "kernelspec": {
   "display_name": "Python 3 (ipykernel)",
   "language": "python",
   "name": "python3"
  },
  "language_info": {
   "codemirror_mode": {
    "name": "ipython",
    "version": 3
   },
   "file_extension": ".py",
   "mimetype": "text/x-python",
   "name": "python",
   "nbconvert_exporter": "python",
   "pygments_lexer": "ipython3",
   "version": "3.10.12"
  }
 },
 "nbformat": 4,
 "nbformat_minor": 5
}
